{
 "metadata": {
  "language_info": {
   "codemirror_mode": {
    "name": "ipython",
    "version": 3
   },
   "file_extension": ".py",
   "mimetype": "text/x-python",
   "name": "python",
   "nbconvert_exporter": "python",
   "pygments_lexer": "ipython3",
   "version": "3.8.5-final"
  },
  "orig_nbformat": 2,
  "kernelspec": {
   "name": "python3",
   "display_name": "Python 3"
  }
 },
 "nbformat": 4,
 "nbformat_minor": 2,
 "cells": [
  {
   "cell_type": "code",
   "execution_count": 66,
   "metadata": {
    "tags": []
   },
   "outputs": [],
   "source": [
    "import cv2 \n",
    "import numpy as np \n",
    "import slow_convolve \n",
    "import cuda_convolve\n",
    "# import scipy.ndimage as scn "
   ]
  },
  {
   "cell_type": "code",
   "execution_count": 67,
   "metadata": {
    "tags": []
   },
   "outputs": [
    {
     "output_type": "stream",
     "name": "stdout",
     "text": "<class 'numpy.ndarray'>\n"
    }
   ],
   "source": [
    "# load image as grayscale or rgb\n",
    "input_img = cv2.imread('./images/lenna.png')\n",
    "print(type(input_img[0][0]))"
   ]
  },
  {
   "cell_type": "code",
   "execution_count": 68,
   "metadata": {},
   "outputs": [],
   "source": [
    "# define different kernels\n",
    "box_kernel = [[1/9 for i in range(3)] for j in range(3)]\n",
    "identity = [[0,0,0],[0,1,0],[0,0,0]]\n",
    "top_sobel  = [[1,2,1],[0,0,0],[-1,-2,-1]]\n",
    "corners   = [[1,0,0],[0,0,0],[0,0,-1]]\n",
    "outline    = [[-1,-1,-1],[-1,8,-1],[-1,-1,-1]]\n",
    "gaussian = [[j/256 for j in i] for i in [[1,4,6,4,1],[4,16,24,16,4],[6,24,36,24,6],[4,16,24,16,4],[1,4,6,4,1]]]\n",
    "unsharp_masking = [[j/-256 for j in i] for i in [[1,4,6,4,1],[4,16,24,16,4],[6,24,-476,24,6],[4,16,24,16,4],[1,4,6,4,1]]]"
   ]
  },
  {
   "cell_type": "code",
   "execution_count": 69,
   "metadata": {},
   "outputs": [],
   "source": [
    "# convolved = slow_convolve.convolve(input_img, outline) \n",
    "# cv2.imshow('image', convolved)\n",
    "# cv2.waitKey(0)\n",
    "# cv2.destroyAllWindows() "
   ]
  },
  {
   "cell_type": "code",
   "execution_count": 70,
   "metadata": {
    "tags": []
   },
   "outputs": [
    {
     "output_type": "stream",
     "name": "stdout",
     "text": "(512, 512, 3)\n"
    }
   ],
   "source": [
    "cuda_convolved = cuda_convolve.convolve(input_img, gaussian)\n",
    "cv2.imshow('image', cuda_convolved)\n",
    "cv2.waitKey(0)\n",
    "cv2.destroyAllWindows() "
   ]
  },
  {
   "cell_type": "code",
   "execution_count": null,
   "metadata": {},
   "outputs": [],
   "source": []
  }
 ]
}